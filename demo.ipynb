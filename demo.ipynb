{
 "cells": [
  {
   "cell_type": "code",
   "execution_count": 1,
   "metadata": {},
   "outputs": [],
   "source": [
    "%load_ext lab_black\n",
    "%matplotlib inline"
   ]
  },
  {
   "cell_type": "markdown",
   "metadata": {},
   "source": [
    "# Build GeoJSON files from airspace environment data"
   ]
  },
  {
   "cell_type": "code",
   "execution_count": 2,
   "metadata": {},
   "outputs": [],
   "source": [
    "from glob import glob\n",
    "from collections import defaultdict\n",
    "import matplotlib.pyplot as plt\n",
    "from shapely.geometry import Polygon\n",
    "import pandas as pd\n",
    "import geopandas as gpd"
   ]
  },
  {
   "cell_type": "markdown",
   "metadata": {},
   "source": [
    "#### Airspace Environment data can be found in EUROCONTROL DDR2 web portal (Dataset Files/Airspace Environment Datasets)"
   ]
  },
  {
   "cell_type": "code",
   "execution_count": 3,
   "metadata": {},
   "outputs": [],
   "source": [
    "env_folder = \"your_ENV_folder\""
   ]
  },
  {
   "cell_type": "markdown",
   "metadata": {},
   "source": [
    "#### <br> Load airblocks coordinates"
   ]
  },
  {
   "cell_type": "code",
   "execution_count": 4,
   "metadata": {},
   "outputs": [
    {
     "data": {
      "image/svg+xml": [
       "<svg xmlns=\"http://www.w3.org/2000/svg\" xmlns:xlink=\"http://www.w3.org/1999/xlink\" width=\"100.0\" height=\"100.0\" viewBox=\"-1.8327111333333332 44.283955533333334 3.0432005999999996 2.4545889333333406\" preserveAspectRatio=\"xMinYMin meet\"><g transform=\"matrix(1,0,0,-1,0,91.02250000000001)\"><path fill-rule=\"evenodd\" fill=\"#66cc99\" stroke=\"#555555\" stroke-width=\"0.060864011999999995\" opacity=\"0.6\" d=\"M -0.25,46.62583333333334 L 0.9133333333333333,46.52722166666667 L 0.9066666666666666,45.88333333333333 L 1.0977783333333333,45.193333333333335 L 0.6566666666666666,45.031666666666666 L 0.024166666666666666,44.39666666666667 L -0.21611166666666665,44.39888833333334 L -0.7166666666666667,44.81666666666667 L -0.95,44.81666666666667 L -1.72,44.81666666666667 L -1.678055,45.56111166666667 L -1.6666666666666667,45.981388333333335 L -1.0941666666666667,46.164445 L -0.9869450000000001,46.198888333333336 L -0.941945,46.21333333333334 L -0.7222216666666667,46.305 L -0.25,46.5 L -0.25,46.62583333333334 z\" /></g></svg>"
      ],
      "text/plain": [
       "<shapely.geometry.polygon.Polygon at 0x110786fd0>"
      ]
     },
     "execution_count": 4,
     "metadata": {},
     "output_type": "execute_result"
    }
   ],
   "source": [
    "with open(glob(env_folder + \"/Sectors*.are\")[0]) as are:\n",
    "    lines = are.readlines()\n",
    "\n",
    "airblocks = defaultdict(list)\n",
    "name = \"\"\n",
    "for l in lines:\n",
    "    elems = l.strip().split(\" \")\n",
    "    if len(elems) > 2:\n",
    "        name = elems[-1]\n",
    "    else:\n",
    "        airblocks[name].append((float(elems[1]) / 60, float(elems[0]) / 60))  # lon, lat\n",
    "\n",
    "Polygon(airblocks[\"039LF\"])"
   ]
  },
  {
   "cell_type": "markdown",
   "metadata": {},
   "source": [
    "#### <br> Load elementary airspace volumes with associated airblocks"
   ]
  },
  {
   "cell_type": "code",
   "execution_count": 5,
   "metadata": {},
   "outputs": [
    {
     "data": {
      "text/html": [
       "<div>\n",
       "<style scoped>\n",
       "    .dataframe tbody tr th:only-of-type {\n",
       "        vertical-align: middle;\n",
       "    }\n",
       "\n",
       "    .dataframe tbody tr th {\n",
       "        vertical-align: top;\n",
       "    }\n",
       "\n",
       "    .dataframe thead th {\n",
       "        text-align: right;\n",
       "    }\n",
       "</style>\n",
       "<table border=\"1\" class=\"dataframe\">\n",
       "  <thead>\n",
       "    <tr style=\"text-align: right;\">\n",
       "      <th></th>\n",
       "      <th>airspace</th>\n",
       "      <th>airblock</th>\n",
       "      <th>flmin</th>\n",
       "      <th>flmax</th>\n",
       "    </tr>\n",
       "  </thead>\n",
       "  <tbody>\n",
       "    <tr>\n",
       "      <td>0</td>\n",
       "      <td>BGGLFIR</td>\n",
       "      <td>002BG</td>\n",
       "      <td>0</td>\n",
       "      <td>999</td>\n",
       "    </tr>\n",
       "    <tr>\n",
       "      <td>1</td>\n",
       "      <td>BIDCT</td>\n",
       "      <td>001BI</td>\n",
       "      <td>0</td>\n",
       "      <td>999</td>\n",
       "    </tr>\n",
       "    <tr>\n",
       "      <td>2</td>\n",
       "      <td>BIDCT</td>\n",
       "      <td>002BI</td>\n",
       "      <td>0</td>\n",
       "      <td>999</td>\n",
       "    </tr>\n",
       "    <tr>\n",
       "      <td>3</td>\n",
       "      <td>BIDCT</td>\n",
       "      <td>003BI</td>\n",
       "      <td>0</td>\n",
       "      <td>999</td>\n",
       "    </tr>\n",
       "    <tr>\n",
       "      <td>4</td>\n",
       "      <td>BIDCT</td>\n",
       "      <td>004BI</td>\n",
       "      <td>0</td>\n",
       "      <td>999</td>\n",
       "    </tr>\n",
       "  </tbody>\n",
       "</table>\n",
       "</div>"
      ],
      "text/plain": [
       "  airspace airblock  flmin  flmax\n",
       "0  BGGLFIR    002BG      0    999\n",
       "1    BIDCT    001BI      0    999\n",
       "2    BIDCT    002BI      0    999\n",
       "3    BIDCT    003BI      0    999\n",
       "4    BIDCT    004BI      0    999"
      ]
     },
     "execution_count": 5,
     "metadata": {},
     "output_type": "execute_result"
    }
   ],
   "source": [
    "sls = pd.read_csv(\n",
    "    glob(env_folder + \"/Sectors*.sls\")[0],\n",
    "    sep=\" \",\n",
    "    header=None,\n",
    "    names=[\"airspace\", \"_\", \"airblock\", \"flmin\", \"flmax\"],\n",
    ")\n",
    "sls.drop([\"_\"], axis=1, inplace=True)\n",
    "sls.head()"
   ]
  },
  {
   "cell_type": "markdown",
   "metadata": {},
   "source": [
    "#### Add airblocks geodata"
   ]
  },
  {
   "cell_type": "code",
   "execution_count": 6,
   "metadata": {},
   "outputs": [
    {
     "data": {
      "text/html": [
       "<div>\n",
       "<style scoped>\n",
       "    .dataframe tbody tr th:only-of-type {\n",
       "        vertical-align: middle;\n",
       "    }\n",
       "\n",
       "    .dataframe tbody tr th {\n",
       "        vertical-align: top;\n",
       "    }\n",
       "\n",
       "    .dataframe thead th {\n",
       "        text-align: right;\n",
       "    }\n",
       "</style>\n",
       "<table border=\"1\" class=\"dataframe\">\n",
       "  <thead>\n",
       "    <tr style=\"text-align: right;\">\n",
       "      <th></th>\n",
       "      <th>airspace</th>\n",
       "      <th>airblock</th>\n",
       "      <th>flmin</th>\n",
       "      <th>flmax</th>\n",
       "      <th>geometry</th>\n",
       "    </tr>\n",
       "  </thead>\n",
       "  <tbody>\n",
       "    <tr>\n",
       "      <td>0</td>\n",
       "      <td>BGGLFIR</td>\n",
       "      <td>002BG</td>\n",
       "      <td>0</td>\n",
       "      <td>999</td>\n",
       "      <td>POLYGON ((-60.00000 89.00000, 30.00000 89.0000...</td>\n",
       "    </tr>\n",
       "    <tr>\n",
       "      <td>1</td>\n",
       "      <td>BIDCT</td>\n",
       "      <td>001BI</td>\n",
       "      <td>0</td>\n",
       "      <td>999</td>\n",
       "      <td>POLYGON ((-22.96667 64.63333, -22.88333 64.783...</td>\n",
       "    </tr>\n",
       "    <tr>\n",
       "      <td>2</td>\n",
       "      <td>BIDCT</td>\n",
       "      <td>002BI</td>\n",
       "      <td>0</td>\n",
       "      <td>999</td>\n",
       "      <td>POLYGON ((-15.17667 66.75000, -22.88333 64.783...</td>\n",
       "    </tr>\n",
       "    <tr>\n",
       "      <td>3</td>\n",
       "      <td>BIDCT</td>\n",
       "      <td>003BI</td>\n",
       "      <td>0</td>\n",
       "      <td>999</td>\n",
       "      <td>POLYGON ((0.00000 63.47611, 0.00000 63.25000, ...</td>\n",
       "    </tr>\n",
       "    <tr>\n",
       "      <td>4</td>\n",
       "      <td>BIDCT</td>\n",
       "      <td>004BI</td>\n",
       "      <td>0</td>\n",
       "      <td>999</td>\n",
       "      <td>POLYGON ((-15.17667 66.75000, -14.00000 66.000...</td>\n",
       "    </tr>\n",
       "  </tbody>\n",
       "</table>\n",
       "</div>"
      ],
      "text/plain": [
       "  airspace airblock  flmin  flmax  \\\n",
       "0  BGGLFIR    002BG      0    999   \n",
       "1    BIDCT    001BI      0    999   \n",
       "2    BIDCT    002BI      0    999   \n",
       "3    BIDCT    003BI      0    999   \n",
       "4    BIDCT    004BI      0    999   \n",
       "\n",
       "                                            geometry  \n",
       "0  POLYGON ((-60.00000 89.00000, 30.00000 89.0000...  \n",
       "1  POLYGON ((-22.96667 64.63333, -22.88333 64.783...  \n",
       "2  POLYGON ((-15.17667 66.75000, -22.88333 64.783...  \n",
       "3  POLYGON ((0.00000 63.47611, 0.00000 63.25000, ...  \n",
       "4  POLYGON ((-15.17667 66.75000, -14.00000 66.000...  "
      ]
     },
     "execution_count": 6,
     "metadata": {},
     "output_type": "execute_result"
    }
   ],
   "source": [
    "sls[\"geometry\"] = sls[\"airblock\"].apply(lambda x: Polygon(airblocks[x]))\n",
    "geo_sls = gpd.GeoDataFrame(sls)\n",
    "geo_sls.head()"
   ]
  },
  {
   "cell_type": "markdown",
   "metadata": {},
   "source": [
    "#### <br> Load all collapse airspace volumes"
   ]
  },
  {
   "cell_type": "code",
   "execution_count": 7,
   "metadata": {},
   "outputs": [
    {
     "name": "stdout",
     "output_type": "stream",
     "text": [
      "['LFBBL1', 'LFBBL2', 'LFBBR1', 'LFBBR2']\n"
     ]
    }
   ],
   "source": [
    "spc = pd.read_csv(glob(env_folder + \"/Sectors*.spc\")[0], sep=\";\")\n",
    "collapse = defaultdict(list)\n",
    "name = \"\"\n",
    "for _, row in spc.iterrows():\n",
    "    if row[0] == \"A\":\n",
    "        name = row[1]\n",
    "    elif row[0] == \"S\":\n",
    "        collapse[name].append(row[1])\n",
    "\n",
    "print(collapse[\"LFBBRL12\"])"
   ]
  },
  {
   "cell_type": "markdown",
   "metadata": {},
   "source": [
    "#### <br> Get 3D geometry of a collapse airspace volume"
   ]
  },
  {
   "cell_type": "code",
   "execution_count": 8,
   "metadata": {},
   "outputs": [],
   "source": [
    "def geom(ap):\n",
    "    return geo_sls.query(f\"airspace in {collapse[ap]}\")"
   ]
  },
  {
   "cell_type": "code",
   "execution_count": 9,
   "metadata": {},
   "outputs": [
    {
     "data": {
      "text/html": [
       "<div>\n",
       "<style scoped>\n",
       "    .dataframe tbody tr th:only-of-type {\n",
       "        vertical-align: middle;\n",
       "    }\n",
       "\n",
       "    .dataframe tbody tr th {\n",
       "        vertical-align: top;\n",
       "    }\n",
       "\n",
       "    .dataframe thead th {\n",
       "        text-align: right;\n",
       "    }\n",
       "</style>\n",
       "<table border=\"1\" class=\"dataframe\">\n",
       "  <thead>\n",
       "    <tr style=\"text-align: right;\">\n",
       "      <th></th>\n",
       "      <th>airspace</th>\n",
       "      <th>airblock</th>\n",
       "      <th>flmin</th>\n",
       "      <th>flmax</th>\n",
       "      <th>geometry</th>\n",
       "    </tr>\n",
       "  </thead>\n",
       "  <tbody>\n",
       "    <tr>\n",
       "      <td>14900</td>\n",
       "      <td>LFBBH1</td>\n",
       "      <td>104LF</td>\n",
       "      <td>195</td>\n",
       "      <td>295</td>\n",
       "      <td>POLYGON ((3.36917 44.85889, 4.27361 44.43167, ...</td>\n",
       "    </tr>\n",
       "    <tr>\n",
       "      <td>14901</td>\n",
       "      <td>LFBBH2</td>\n",
       "      <td>104LF</td>\n",
       "      <td>295</td>\n",
       "      <td>345</td>\n",
       "      <td>POLYGON ((3.36917 44.85889, 4.27361 44.43167, ...</td>\n",
       "    </tr>\n",
       "    <tr>\n",
       "      <td>14902</td>\n",
       "      <td>LFBBH3</td>\n",
       "      <td>104LF</td>\n",
       "      <td>345</td>\n",
       "      <td>365</td>\n",
       "      <td>POLYGON ((3.36917 44.85889, 4.27361 44.43167, ...</td>\n",
       "    </tr>\n",
       "    <tr>\n",
       "      <td>14903</td>\n",
       "      <td>LFBBH4</td>\n",
       "      <td>104LF</td>\n",
       "      <td>365</td>\n",
       "      <td>385</td>\n",
       "      <td>POLYGON ((3.36917 44.85889, 4.27361 44.43167, ...</td>\n",
       "    </tr>\n",
       "    <tr>\n",
       "      <td>14904</td>\n",
       "      <td>LFBBH5</td>\n",
       "      <td>104LF</td>\n",
       "      <td>385</td>\n",
       "      <td>999</td>\n",
       "      <td>POLYGON ((3.36917 44.85889, 4.27361 44.43167, ...</td>\n",
       "    </tr>\n",
       "  </tbody>\n",
       "</table>\n",
       "</div>"
      ],
      "text/plain": [
       "      airspace airblock  flmin  flmax  \\\n",
       "14900   LFBBH1    104LF    195    295   \n",
       "14901   LFBBH2    104LF    295    345   \n",
       "14902   LFBBH3    104LF    345    365   \n",
       "14903   LFBBH4    104LF    365    385   \n",
       "14904   LFBBH5    104LF    385    999   \n",
       "\n",
       "                                                geometry  \n",
       "14900  POLYGON ((3.36917 44.85889, 4.27361 44.43167, ...  \n",
       "14901  POLYGON ((3.36917 44.85889, 4.27361 44.43167, ...  \n",
       "14902  POLYGON ((3.36917 44.85889, 4.27361 44.43167, ...  \n",
       "14903  POLYGON ((3.36917 44.85889, 4.27361 44.43167, ...  \n",
       "14904  POLYGON ((3.36917 44.85889, 4.27361 44.43167, ...  "
      ]
     },
     "execution_count": 9,
     "metadata": {},
     "output_type": "execute_result"
    }
   ],
   "source": [
    "df = geom(\"LFBBUBDX\")\n",
    "df.head()"
   ]
  },
  {
   "cell_type": "markdown",
   "metadata": {},
   "source": [
    "#### Ex: 2D visualization of LFBBUBDX at FL195 and FL345"
   ]
  },
  {
   "cell_type": "code",
   "execution_count": 10,
   "metadata": {},
   "outputs": [
    {
     "data": {
      "image/png": "[encoded data removed]",
      "text/plain": [
       "<Figure size 1080x576 with 2 Axes>"
      ]
     },
     "metadata": {
      "needs_background": "light"
     },
     "output_type": "display_data"
    }
   ],
   "source": [
    "fig, axes = plt.subplots(nrows=1, ncols=2, figsize=(15, 8))\n",
    "df.query(\"flmin == 195\").plot(ax=axes[0], alpha=0.3, color=\"green\")\n",
    "df.query(\"flmin == 345\").plot(ax=axes[1], alpha=0.3, color=\"blue\")\n",
    "for i in range(2):\n",
    "    axes[i].set_axis_off()\n",
    "    axes[i].get_xaxis().set_visible(False)\n",
    "    axes[i].get_yaxis().set_visible(False)\n",
    "fig.tight_layout()\n",
    "plt.savefig(\"ubdx.png\")\n",
    "plt.show()"
   ]
  },
  {
   "cell_type": "markdown",
   "metadata": {},
   "source": [
    "#### <br> Export to GeoJSON"
   ]
  },
  {
   "cell_type": "code",
   "execution_count": 11,
   "metadata": {},
   "outputs": [],
   "source": [
    "def gson(ap, file_name):\n",
    "    geo_sls.query(f\"airspace in {collapse[ap]}\").to_file(file_name, driver=\"GeoJSON\")"
   ]
  },
  {
   "cell_type": "code",
   "execution_count": 12,
   "metadata": {},
   "outputs": [],
   "source": [
    "gson(\"LFBBUBDX\", \"ubdx.geojson\")"
   ]
  },
  {
   "cell_type": "code",
   "execution_count": 13,
   "metadata": {},
   "outputs": [
    {
     "data": {
      "text/html": [
       "<div>\n",
       "<style scoped>\n",
       "    .dataframe tbody tr th:only-of-type {\n",
       "        vertical-align: middle;\n",
       "    }\n",
       "\n",
       "    .dataframe tbody tr th {\n",
       "        vertical-align: top;\n",
       "    }\n",
       "\n",
       "    .dataframe thead th {\n",
       "        text-align: right;\n",
       "    }\n",
       "</style>\n",
       "<table border=\"1\" class=\"dataframe\">\n",
       "  <thead>\n",
       "    <tr style=\"text-align: right;\">\n",
       "      <th></th>\n",
       "      <th>airspace</th>\n",
       "      <th>airblock</th>\n",
       "      <th>flmin</th>\n",
       "      <th>flmax</th>\n",
       "      <th>geometry</th>\n",
       "    </tr>\n",
       "  </thead>\n",
       "  <tbody>\n",
       "    <tr>\n",
       "      <td>0</td>\n",
       "      <td>LFBBH1</td>\n",
       "      <td>104LF</td>\n",
       "      <td>195</td>\n",
       "      <td>295</td>\n",
       "      <td>POLYGON ((3.36917 44.85889, 4.27361 44.43167, ...</td>\n",
       "    </tr>\n",
       "    <tr>\n",
       "      <td>1</td>\n",
       "      <td>LFBBH2</td>\n",
       "      <td>104LF</td>\n",
       "      <td>295</td>\n",
       "      <td>345</td>\n",
       "      <td>POLYGON ((3.36917 44.85889, 4.27361 44.43167, ...</td>\n",
       "    </tr>\n",
       "    <tr>\n",
       "      <td>2</td>\n",
       "      <td>LFBBH3</td>\n",
       "      <td>104LF</td>\n",
       "      <td>345</td>\n",
       "      <td>365</td>\n",
       "      <td>POLYGON ((3.36917 44.85889, 4.27361 44.43167, ...</td>\n",
       "    </tr>\n",
       "    <tr>\n",
       "      <td>3</td>\n",
       "      <td>LFBBH4</td>\n",
       "      <td>104LF</td>\n",
       "      <td>365</td>\n",
       "      <td>385</td>\n",
       "      <td>POLYGON ((3.36917 44.85889, 4.27361 44.43167, ...</td>\n",
       "    </tr>\n",
       "    <tr>\n",
       "      <td>4</td>\n",
       "      <td>LFBBH5</td>\n",
       "      <td>104LF</td>\n",
       "      <td>385</td>\n",
       "      <td>999</td>\n",
       "      <td>POLYGON ((3.36917 44.85889, 4.27361 44.43167, ...</td>\n",
       "    </tr>\n",
       "  </tbody>\n",
       "</table>\n",
       "</div>"
      ],
      "text/plain": [
       "  airspace airblock  flmin  flmax  \\\n",
       "0   LFBBH1    104LF    195    295   \n",
       "1   LFBBH2    104LF    295    345   \n",
       "2   LFBBH3    104LF    345    365   \n",
       "3   LFBBH4    104LF    365    385   \n",
       "4   LFBBH5    104LF    385    999   \n",
       "\n",
       "                                            geometry  \n",
       "0  POLYGON ((3.36917 44.85889, 4.27361 44.43167, ...  \n",
       "1  POLYGON ((3.36917 44.85889, 4.27361 44.43167, ...  \n",
       "2  POLYGON ((3.36917 44.85889, 4.27361 44.43167, ...  \n",
       "3  POLYGON ((3.36917 44.85889, 4.27361 44.43167, ...  \n",
       "4  POLYGON ((3.36917 44.85889, 4.27361 44.43167, ...  "
      ]
     },
     "execution_count": 13,
     "metadata": {},
     "output_type": "execute_result"
    }
   ],
   "source": [
    "gdf = gpd.read_file(\"ubdx.geojson\")\n",
    "gdf.head()"
   ]
  }
 ],
 "metadata": {
  "kernelspec": {
   "display_name": "Python 3",
   "language": "python",
   "name": "python3"
  },
  "language_info": {
   "codemirror_mode": {
    "name": "ipython",
    "version": 3
   },
   "file_extension": ".py",
   "mimetype": "text/x-python",
   "name": "python",
   "nbconvert_exporter": "python",
   "pygments_lexer": "ipython3",
   "version": "3.7.4"
  }
 },
 "nbformat": 4,
 "nbformat_minor": 4
}
